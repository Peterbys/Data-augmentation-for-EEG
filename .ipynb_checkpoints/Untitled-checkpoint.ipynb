{
 "cells": [
  {
   "cell_type": "code",
   "execution_count": 60,
   "metadata": {},
   "outputs": [
    {
     "name": "stdout",
     "output_type": "stream",
     "text": [
      "Automatically created module for IPython interactive environment\n"
     ]
    }
   ],
   "source": [
    "# Author: Alan Leggitt <alan.leggitt@ucsf.edu>\n",
    "#\n",
    "# License: BSD (3-clause)\n",
    "\n",
    "import mne\n",
    "from mne import setup_source_space, setup_volume_source_space\n",
    "from mne.datasets import sample\n",
    "\n",
    "print(__doc__)\n",
    "\n",
    "data_path = sample.data_path()\n",
    "subjects_dir = data_path + '/subjects'\n",
    "subject = 'sample'\n",
    "aseg_fname = subjects_dir + '/sample/mri/aseg.mgz'"
   ]
  },
  {
   "cell_type": "code",
   "execution_count": 61,
   "metadata": {},
   "outputs": [
    {
     "name": "stdout",
     "output_type": "stream",
     "text": [
      "Setting up the source space with the following parameters:\n",
      "\n",
      "SUBJECTS_DIR = C:\\Users\\P\\mne_data\\MNE-sample-data/subjects\n",
      "Subject      = sample\n",
      "Surface      = white\n",
      "Octahedron subdivision grade 6\n",
      "\n",
      ">>> 1. Creating the source space...\n",
      "\n",
      "Doing the octahedral vertex picking...\n",
      "Loading C:\\Users\\P\\mne_data\\MNE-sample-data/subjects\\sample\\surf\\lh.white...\n",
      "Mapping lh sample -> oct (6) ...\n",
      "    Triangle neighbors and vertex normals...\n",
      "Loading geometry from C:\\Users\\P\\mne_data\\MNE-sample-data/subjects\\sample\\surf\\lh.sphere...\n",
      "Setting up the triangulation for the decimated surface...\n",
      "loaded lh.white 4098/155407 selected to source space (oct = 6)\n",
      "\n",
      "Loading C:\\Users\\P\\mne_data\\MNE-sample-data/subjects\\sample\\surf\\rh.white...\n",
      "Mapping rh sample -> oct (6) ...\n",
      "    Triangle neighbors and vertex normals...\n",
      "Loading geometry from C:\\Users\\P\\mne_data\\MNE-sample-data/subjects\\sample\\surf\\rh.sphere...\n",
      "Setting up the triangulation for the decimated surface...\n",
      "loaded rh.white 4098/156866 selected to source space (oct = 6)\n",
      "\n",
      "You are now one step closer to computing the gain matrix\n",
      "Sphere                : origin at (0.0 0.0 0.0) mm\n",
      "              radius  : 120.0 mm\n",
      "grid                  : 5.0 mm\n",
      "mindist               : 5.0 mm\n",
      "MRI volume            : C:\\Users\\P\\mne_data\\MNE-sample-data/subjects/sample/mri/aseg.mgz\n",
      "\n",
      "Setting up the sphere...\n",
      "Surface CM = (   0.0    0.0    0.0) mm\n",
      "Surface fits inside a sphere with radius  120.0 mm\n",
      "Surface extent:\n",
      "    x = -120.0 ...  120.0 mm\n",
      "    y = -120.0 ...  120.0 mm\n",
      "    z = -120.0 ...  120.0 mm\n",
      "Grid extent:\n",
      "    x = -125.0 ...  125.0 mm\n",
      "    y = -125.0 ...  125.0 mm\n",
      "    z = -125.0 ...  125.0 mm\n",
      "132651 sources before omitting any.\n",
      "57769 sources after omitting infeasible sources not within 0.0 - 120.0 mm.\n",
      "\n",
      "Selecting voxels from Left-Cerebellum-Cortex\n",
      "401 sources remaining after excluding sources too far from VOI voxels\n",
      "401 sources remaining after excluding the sources outside the surface and less than    5.0 mm inside.\n",
      "Adjusting the neighborhood info.\n",
      "\n",
      "Reading C:\\Users\\P\\mne_data\\MNE-sample-data/subjects/sample/mri/aseg.mgz...\n",
      "Source space : MRI voxel -> MRI (surface RAS)\n",
      "     0.005000  0.000000  0.000000    -125.00 mm\n",
      "     0.000000  0.005000  0.000000    -125.00 mm\n",
      "     0.000000  0.000000  0.005000    -125.00 mm\n",
      "     0.000000  0.000000  0.000000       1.00\n",
      "MRI volume : MRI voxel -> MRI (surface RAS)\n",
      "    -0.001000  0.000000  0.000000     128.00 mm\n",
      "     0.000000  0.000000  0.001000    -128.00 mm\n",
      "     0.000000 -0.001000  0.000000     128.00 mm\n",
      "     0.000000  0.000000  0.000000       1.00\n",
      "MRI volume : MRI (surface RAS) -> RAS (non-zero origin)\n",
      "     1.000000 -0.000000 -0.000000      -5.27 mm\n",
      "    -0.000000  1.000000 -0.000000       9.04 mm\n",
      "    -0.000000  0.000000  1.000000     -27.29 mm\n",
      "     0.000000  0.000000  0.000000       1.00\n",
      "Setting up interpolation for Left-Cerebellum-Cortex...\n",
      " 794200/16777216 nonzero values [done]\n"
     ]
    }
   ],
   "source": [
    "# setup a cortical surface source space and extract left hemisphere\n",
    "surf = setup_source_space(subject, subjects_dir=subjects_dir, add_dist=False)\n",
    "lh_surf = surf[0]\n",
    "\n",
    "# setup a volume source space of the left cerebellum cortex\n",
    "volume_label = 'Left-Cerebellum-Cortex'\n",
    "sphere = (0, 0, 0, 120)\n",
    "lh_cereb = setup_volume_source_space(subject, mri=aseg_fname, sphere=sphere,\n",
    "                                     volume_label=volume_label,\n",
    "                                     subjects_dir=subjects_dir)\n",
    "\n",
    "# Combine the source spaces\n",
    "src = surf + lh_cereb"
   ]
  },
  {
   "cell_type": "code",
   "execution_count": 62,
   "metadata": {},
   "outputs": [
    {
     "ename": "ModuleNotFoundError",
     "evalue": "No module named 'mayavi'",
     "output_type": "error",
     "traceback": [
      "\u001b[1;31m---------------------------------------------------------------------------\u001b[0m",
      "\u001b[1;31mModuleNotFoundError\u001b[0m                       Traceback (most recent call last)",
      "\u001b[1;32m<ipython-input-62-fb45bcd70dfd>\u001b[0m in \u001b[0;36m<module>\u001b[1;34m\u001b[0m\n\u001b[0;32m      1\u001b[0m fig = mne.viz.plot_alignment(subject=subject, subjects_dir=subjects_dir,\n\u001b[0;32m      2\u001b[0m                              \u001b[0msurfaces\u001b[0m\u001b[1;33m=\u001b[0m\u001b[1;34m'white'\u001b[0m\u001b[1;33m,\u001b[0m \u001b[0mcoord_frame\u001b[0m\u001b[1;33m=\u001b[0m\u001b[1;34m'head'\u001b[0m\u001b[1;33m,\u001b[0m\u001b[1;33m\u001b[0m\u001b[1;33m\u001b[0m\u001b[0m\n\u001b[1;32m----> 3\u001b[1;33m                              src=src)\n\u001b[0m\u001b[0;32m      4\u001b[0m mne.viz.set_3d_view(fig, azimuth=173.78, elevation=101.75,\n\u001b[0;32m      5\u001b[0m                     distance=0.30, focalpoint=(-0.03, -0.01, 0.03))\n",
      "\u001b[1;32m<C:\\Users\\P\\Anaconda3\\lib\\site-packages\\mne\\externals\\decorator.py:decorator-gen-123>\u001b[0m in \u001b[0;36mplot_alignment\u001b[1;34m(info, trans, subject, subjects_dir, surfaces, coord_frame, meg, eeg, fwd, dig, ecog, src, mri_fiducials, bem, seeg, show_axes, fig, interaction, verbose)\u001b[0m\n",
      "\u001b[1;32m~\\Anaconda3\\lib\\site-packages\\mne\\utils\\_logging.py\u001b[0m in \u001b[0;36mwrapper\u001b[1;34m(*args, **kwargs)\u001b[0m\n\u001b[0;32m     88\u001b[0m             \u001b[1;32mwith\u001b[0m \u001b[0muse_log_level\u001b[0m\u001b[1;33m(\u001b[0m\u001b[0mverbose_level\u001b[0m\u001b[1;33m)\u001b[0m\u001b[1;33m:\u001b[0m\u001b[1;33m\u001b[0m\u001b[1;33m\u001b[0m\u001b[0m\n\u001b[0;32m     89\u001b[0m                 \u001b[1;32mreturn\u001b[0m \u001b[0mfunction\u001b[0m\u001b[1;33m(\u001b[0m\u001b[1;33m*\u001b[0m\u001b[0margs\u001b[0m\u001b[1;33m,\u001b[0m \u001b[1;33m**\u001b[0m\u001b[0mkwargs\u001b[0m\u001b[1;33m)\u001b[0m\u001b[1;33m\u001b[0m\u001b[1;33m\u001b[0m\u001b[0m\n\u001b[1;32m---> 90\u001b[1;33m         \u001b[1;32mreturn\u001b[0m \u001b[0mfunction\u001b[0m\u001b[1;33m(\u001b[0m\u001b[1;33m*\u001b[0m\u001b[0margs\u001b[0m\u001b[1;33m,\u001b[0m \u001b[1;33m**\u001b[0m\u001b[0mkwargs\u001b[0m\u001b[1;33m)\u001b[0m\u001b[1;33m\u001b[0m\u001b[1;33m\u001b[0m\u001b[0m\n\u001b[0m\u001b[0;32m     91\u001b[0m     return FunctionMaker.create(\n\u001b[0;32m     92\u001b[0m         \u001b[0mfunction\u001b[0m\u001b[1;33m,\u001b[0m \u001b[1;34m'return decfunc(%(signature)s)'\u001b[0m\u001b[1;33m,\u001b[0m\u001b[1;33m\u001b[0m\u001b[1;33m\u001b[0m\u001b[0m\n",
      "\u001b[1;32m~\\Anaconda3\\lib\\site-packages\\mne\\viz\\_3d.py\u001b[0m in \u001b[0;36mplot_alignment\u001b[1;34m(***failed resolving arguments***)\u001b[0m\n\u001b[0;32m   1015\u001b[0m \u001b[1;33m\u001b[0m\u001b[0m\n\u001b[0;32m   1016\u001b[0m     \u001b[1;31m# initialize figure\u001b[0m\u001b[1;33m\u001b[0m\u001b[1;33m\u001b[0m\u001b[1;33m\u001b[0m\u001b[0m\n\u001b[1;32m-> 1017\u001b[1;33m     \u001b[0mrenderer\u001b[0m \u001b[1;33m=\u001b[0m \u001b[0m_Renderer\u001b[0m\u001b[1;33m(\u001b[0m\u001b[0mfig\u001b[0m\u001b[1;33m,\u001b[0m \u001b[0mbgcolor\u001b[0m\u001b[1;33m=\u001b[0m\u001b[1;33m(\u001b[0m\u001b[1;36m0.5\u001b[0m\u001b[1;33m,\u001b[0m \u001b[1;36m0.5\u001b[0m\u001b[1;33m,\u001b[0m \u001b[1;36m0.5\u001b[0m\u001b[1;33m)\u001b[0m\u001b[1;33m,\u001b[0m \u001b[0msize\u001b[0m\u001b[1;33m=\u001b[0m\u001b[1;33m(\u001b[0m\u001b[1;36m800\u001b[0m\u001b[1;33m,\u001b[0m \u001b[1;36m800\u001b[0m\u001b[1;33m)\u001b[0m\u001b[1;33m)\u001b[0m\u001b[1;33m\u001b[0m\u001b[1;33m\u001b[0m\u001b[0m\n\u001b[0m\u001b[0;32m   1018\u001b[0m     \u001b[1;32mif\u001b[0m \u001b[0minteraction\u001b[0m \u001b[1;33m==\u001b[0m \u001b[1;34m'terrain'\u001b[0m\u001b[1;33m:\u001b[0m\u001b[1;33m\u001b[0m\u001b[1;33m\u001b[0m\u001b[0m\n\u001b[0;32m   1019\u001b[0m         \u001b[0mrenderer\u001b[0m\u001b[1;33m.\u001b[0m\u001b[0mset_interactive\u001b[0m\u001b[1;33m(\u001b[0m\u001b[1;33m)\u001b[0m\u001b[1;33m\u001b[0m\u001b[1;33m\u001b[0m\u001b[0m\n",
      "\u001b[1;32m~\\Anaconda3\\lib\\site-packages\\mne\\viz\\backends\\_pysurfer_mayavi.py\u001b[0m in \u001b[0;36m__init__\u001b[1;34m(self, fig, size, bgcolor, name, show)\u001b[0m\n\u001b[0;32m     60\u001b[0m     def __init__(self, fig=None, size=(600, 600), bgcolor=(0., 0., 0.),\n\u001b[0;32m     61\u001b[0m                  name=None, show=False):\n\u001b[1;32m---> 62\u001b[1;33m         \u001b[0mself\u001b[0m\u001b[1;33m.\u001b[0m\u001b[0mmlab\u001b[0m \u001b[1;33m=\u001b[0m \u001b[0m_import_mlab\u001b[0m\u001b[1;33m(\u001b[0m\u001b[1;33m)\u001b[0m\u001b[1;33m\u001b[0m\u001b[1;33m\u001b[0m\u001b[0m\n\u001b[0m\u001b[0;32m     63\u001b[0m         \u001b[1;32mif\u001b[0m \u001b[0mfig\u001b[0m \u001b[1;32mis\u001b[0m \u001b[1;32mNone\u001b[0m\u001b[1;33m:\u001b[0m\u001b[1;33m\u001b[0m\u001b[1;33m\u001b[0m\u001b[0m\n\u001b[0;32m     64\u001b[0m             \u001b[0mself\u001b[0m\u001b[1;33m.\u001b[0m\u001b[0mfig\u001b[0m \u001b[1;33m=\u001b[0m \u001b[0m_mlab_figure\u001b[0m\u001b[1;33m(\u001b[0m\u001b[0mfigure\u001b[0m\u001b[1;33m=\u001b[0m\u001b[0mname\u001b[0m\u001b[1;33m,\u001b[0m \u001b[0mbgcolor\u001b[0m\u001b[1;33m=\u001b[0m\u001b[0mbgcolor\u001b[0m\u001b[1;33m,\u001b[0m \u001b[0msize\u001b[0m\u001b[1;33m=\u001b[0m\u001b[0msize\u001b[0m\u001b[1;33m)\u001b[0m\u001b[1;33m\u001b[0m\u001b[1;33m\u001b[0m\u001b[0m\n",
      "\u001b[1;32m~\\Anaconda3\\lib\\site-packages\\mne\\utils\\_testing.py\u001b[0m in \u001b[0;36m_import_mlab\u001b[1;34m()\u001b[0m\n\u001b[0;32m    226\u001b[0m     \u001b[1;34m\"\"\"Quietly import mlab.\"\"\"\u001b[0m\u001b[1;33m\u001b[0m\u001b[1;33m\u001b[0m\u001b[0m\n\u001b[0;32m    227\u001b[0m     \u001b[1;32mwith\u001b[0m \u001b[0mwarnings\u001b[0m\u001b[1;33m.\u001b[0m\u001b[0mcatch_warnings\u001b[0m\u001b[1;33m(\u001b[0m\u001b[0mrecord\u001b[0m\u001b[1;33m=\u001b[0m\u001b[1;32mTrue\u001b[0m\u001b[1;33m)\u001b[0m\u001b[1;33m:\u001b[0m\u001b[1;33m\u001b[0m\u001b[1;33m\u001b[0m\u001b[0m\n\u001b[1;32m--> 228\u001b[1;33m         \u001b[1;32mfrom\u001b[0m \u001b[0mmayavi\u001b[0m \u001b[1;32mimport\u001b[0m \u001b[0mmlab\u001b[0m\u001b[1;33m\u001b[0m\u001b[1;33m\u001b[0m\u001b[0m\n\u001b[0m\u001b[0;32m    229\u001b[0m     \u001b[1;32mreturn\u001b[0m \u001b[0mmlab\u001b[0m\u001b[1;33m\u001b[0m\u001b[1;33m\u001b[0m\u001b[0m\n\u001b[0;32m    230\u001b[0m \u001b[1;33m\u001b[0m\u001b[0m\n",
      "\u001b[1;31mModuleNotFoundError\u001b[0m: No module named 'mayavi'"
     ]
    }
   ],
   "source": [
    "fig = mne.viz.plot_alignment(subject=subject, subjects_dir=subjects_dir,\n",
    "                             surfaces='white', coord_frame='head',\n",
    "                             src=src)\n",
    "mne.viz.set_3d_view(fig, azimuth=173.78, elevation=101.75,\n",
    "                    distance=0.30, focalpoint=(-0.03, -0.01, 0.03))"
   ]
  }
 ],
 "metadata": {
  "kernelspec": {
   "display_name": "Python 3",
   "language": "python",
   "name": "python3"
  },
  "language_info": {
   "codemirror_mode": {
    "name": "ipython",
    "version": 3
   },
   "file_extension": ".py",
   "mimetype": "text/x-python",
   "name": "python",
   "nbconvert_exporter": "python",
   "pygments_lexer": "ipython3",
   "version": "3.7.4"
  }
 },
 "nbformat": 4,
 "nbformat_minor": 2
}
