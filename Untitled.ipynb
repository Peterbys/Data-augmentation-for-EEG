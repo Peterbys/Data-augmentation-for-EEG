{
 "cells": [
  {
   "cell_type": "code",
   "execution_count": 3,
   "metadata": {},
   "outputs": [
    {
     "name": "stdout",
     "output_type": "stream",
     "text": [
      "Automatically created module for IPython interactive environment\n"
     ]
    }
   ],
   "source": [
    "# Author: Alan Leggitt <alan.leggitt@ucsf.edu>\n",
    "#\n",
    "# License: BSD (3-clause)\n",
    "\n",
    "import mne\n",
    "from mne import setup_source_space, setup_volume_source_space\n",
    "from mne.datasets import sample\n",
    "\n",
    "print(__doc__)\n",
    "\n",
    "data_path = sample.data_path()\n",
    "subjects_dir = data_path + '/subjects'\n",
    "subject = 'sample'\n",
    "aseg_fname = subjects_dir + '/sample/mri/aseg.mgz'"
   ]
  },
  {
   "cell_type": "code",
   "execution_count": 7,
   "metadata": {},
   "outputs": [
    {
     "data": {
      "text/plain": [
       "<SourceSpaces: [<volume (Left-Cerebellum-Cortex), n_used=401, coordinate_frame=MRI (surface RAS)>]>"
      ]
     },
     "execution_count": 7,
     "metadata": {},
     "output_type": "execute_result"
    }
   ],
   "source": [
    "lh_cereb"
   ]
  },
  {
   "cell_type": "code",
   "execution_count": 6,
   "metadata": {},
   "outputs": [
    {
     "name": "stdout",
     "output_type": "stream",
     "text": [
      "Setting up the source space with the following parameters:\n",
      "\n",
      "SUBJECTS_DIR = C:\\Users\\P\\mne_data\\MNE-sample-data/subjects\n",
      "Subject      = sample\n",
      "Surface      = white\n",
      "Octahedron subdivision grade 6\n",
      "\n",
      ">>> 1. Creating the source space...\n",
      "\n",
      "Doing the octahedral vertex picking...\n",
      "Loading C:\\Users\\P\\mne_data\\MNE-sample-data/subjects\\sample\\surf\\lh.white...\n",
      "Mapping lh sample -> oct (6) ...\n",
      "    Triangle neighbors and vertex normals...\n",
      "Loading geometry from C:\\Users\\P\\mne_data\\MNE-sample-data/subjects\\sample\\surf\\lh.sphere...\n",
      "Setting up the triangulation for the decimated surface...\n",
      "loaded lh.white 4098/155407 selected to source space (oct = 6)\n",
      "\n",
      "Loading C:\\Users\\P\\mne_data\\MNE-sample-data/subjects\\sample\\surf\\rh.white...\n",
      "Mapping rh sample -> oct (6) ...\n",
      "    Triangle neighbors and vertex normals...\n",
      "Loading geometry from C:\\Users\\P\\mne_data\\MNE-sample-data/subjects\\sample\\surf\\rh.sphere...\n",
      "Setting up the triangulation for the decimated surface...\n",
      "loaded rh.white 4098/156866 selected to source space (oct = 6)\n",
      "\n",
      "You are now one step closer to computing the gain matrix\n",
      "Sphere                : origin at (0.0 0.0 0.0) mm\n",
      "              radius  : 120.0 mm\n",
      "grid                  : 5.0 mm\n",
      "mindist               : 5.0 mm\n",
      "MRI volume            : C:\\Users\\P\\mne_data\\MNE-sample-data/subjects/sample/mri/aseg.mgz\n",
      "\n",
      "Setting up the sphere...\n",
      "Surface CM = (   0.0    0.0    0.0) mm\n",
      "Surface fits inside a sphere with radius  120.0 mm\n",
      "Surface extent:\n",
      "    x = -120.0 ...  120.0 mm\n",
      "    y = -120.0 ...  120.0 mm\n",
      "    z = -120.0 ...  120.0 mm\n",
      "Grid extent:\n",
      "    x = -125.0 ...  125.0 mm\n",
      "    y = -125.0 ...  125.0 mm\n",
      "    z = -125.0 ...  125.0 mm\n",
      "132651 sources before omitting any.\n",
      "57769 sources after omitting infeasible sources not within 0.0 - 120.0 mm.\n",
      "\n",
      "Selecting voxels from Left-Cerebellum-Cortex\n",
      "401 sources remaining after excluding sources too far from VOI voxels\n",
      "401 sources remaining after excluding the sources outside the surface and less than    5.0 mm inside.\n",
      "Adjusting the neighborhood info.\n",
      "\n",
      "Reading C:\\Users\\P\\mne_data\\MNE-sample-data/subjects/sample/mri/aseg.mgz...\n",
      "Source space : MRI voxel -> MRI (surface RAS)\n",
      "     0.005000  0.000000  0.000000    -125.00 mm\n",
      "     0.000000  0.005000  0.000000    -125.00 mm\n",
      "     0.000000  0.000000  0.005000    -125.00 mm\n",
      "     0.000000  0.000000  0.000000       1.00\n",
      "MRI volume : MRI voxel -> MRI (surface RAS)\n",
      "    -0.001000  0.000000  0.000000     128.00 mm\n",
      "     0.000000  0.000000  0.001000    -128.00 mm\n",
      "     0.000000 -0.001000  0.000000     128.00 mm\n",
      "     0.000000  0.000000  0.000000       1.00\n",
      "MRI volume : MRI (surface RAS) -> RAS (non-zero origin)\n",
      "     1.000000 -0.000000 -0.000000      -5.27 mm\n",
      "    -0.000000  1.000000 -0.000000       9.04 mm\n",
      "    -0.000000  0.000000  1.000000     -27.29 mm\n",
      "     0.000000  0.000000  0.000000       1.00\n",
      "Setting up interpolation for Left-Cerebellum-Cortex...\n",
      " 794200/16777216 nonzero values [done]\n"
     ]
    }
   ],
   "source": [
    "# setup a cortical surface source space and extract left hemisphere\n",
    "surf = setup_source_space(subject, subjects_dir=subjects_dir, add_dist=False)\n",
    "lh_surf = surf[0]\n",
    "\n",
    "# setup a volume source space of the left cerebellum cortex\n",
    "volume_label = 'Left-Cerebellum-Cortex'\n",
    "sphere = (0, 0, 0, 120)\n",
    "lh_cereb = setup_volume_source_space(subject, mri=aseg_fname, sphere=sphere,\n",
    "                                     volume_label=volume_label,\n",
    "                                     subjects_dir=subjects_dir)\n",
    "\n",
    "# Combine the source spaces\n",
    "src = surf + lh_cereb"
   ]
  },
  {
   "cell_type": "code",
   "execution_count": 3,
   "metadata": {},
   "outputs": [],
   "source": [
    "fig = mne.viz.plot_alignment(subject=subject, subjects_dir=subjects_dir,\n",
    "                             surfaces='white', coord_frame='head',\n",
    "                             src=src)\n",
    "mne.viz.set_3d_view(fig, azimuth=173.78, elevation=101.75,\n",
    "                    distance=0.30, focalpoint=(-0.03, -0.01, 0.03))"
   ]
  }
 ],
 "metadata": {
  "kernelspec": {
   "display_name": "Python 3",
   "language": "python",
   "name": "python3"
  },
  "language_info": {
   "codemirror_mode": {
    "name": "ipython",
    "version": 3
   },
   "file_extension": ".py",
   "mimetype": "text/x-python",
   "name": "python",
   "nbconvert_exporter": "python",
   "pygments_lexer": "ipython3",
   "version": "3.7.4"
  }
 },
 "nbformat": 4,
 "nbformat_minor": 2
}
